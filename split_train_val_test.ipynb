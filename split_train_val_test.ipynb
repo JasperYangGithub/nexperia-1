{
 "cells": [
  {
   "cell_type": "code",
   "execution_count": 2,
   "metadata": {},
   "outputs": [],
   "source": [
    "import numpy as np\n",
    "import pandas as pd\n",
    "import os\n",
    "import shutil"
   ]
  },
  {
   "cell_type": "code",
   "execution_count": 17,
   "metadata": {},
   "outputs": [],
   "source": [
    "os.mkdir('/home/kaiyihuang/new_data/val')"
   ]
  },
  {
   "cell_type": "code",
   "execution_count": 23,
   "metadata": {},
   "outputs": [
    {
     "name": "stdout",
     "output_type": "stream",
     "text": [
      "lead_defect\n",
      "206\n",
      "foreign_material\n",
      "1581\n",
      "empty_pocket\n",
      "165\n",
      "pocket_damage\n",
      "3\n",
      "lead_glue\n",
      "507\n",
      "marking_defect\n",
      "141\n",
      "device_flip\n",
      "109\n",
      "scratch\n",
      "607\n",
      "chipping\n",
      "2982\n",
      "good\n",
      "24724\n"
     ]
    }
   ],
   "source": [
    "rootdir ='/home/kaiyihuang/new_data'\n",
    "for subdir, dirs, files in os.walk(os.path.join(rootdir,'train')):\n",
    "    for folder in dirs:\n",
    "        print(folder)\n",
    "        \n",
    "        path = os.path.join(rootdir,'train',folder)\n",
    "        dst = os.path.join(rootdir,'val',folder)\n",
    "#         os.mkdir(dst)\n",
    "        for subsubdir, subdirs, files in os.walk(path):\n",
    "            images = pd.Series(files)\n",
    "            images = images[images.str.contains('.bmp')]\n",
    "            print(len(images))\n",
    "#             if (len(images)>=10):\n",
    "#                 test_images = images.sample(frac=0.1)\n",
    "#             else:\n",
    "#                 test_images = images.sample(n=1)\n",
    "#             test_images.apply(lambda image:shutil.move(os.path.join(path,image),dst))\n",
    "    break\n",
    "    "
   ]
  },
  {
   "cell_type": "code",
   "execution_count": 9,
   "metadata": {},
   "outputs": [
    {
     "data": {
      "text/plain": [
       "'/home/kaiyihuang/new_data'"
      ]
     },
     "execution_count": 9,
     "metadata": {},
     "output_type": "execute_result"
    }
   ],
   "source": [
    "os.getcwd()"
   ]
  },
  {
   "cell_type": "code",
   "execution_count": 52,
   "metadata": {},
   "outputs": [
    {
     "data": {
      "text/plain": [
       "'/Users/kaiyihuang/Downloads/20191129_Labeled_Image/val/yes'"
      ]
     },
     "execution_count": 52,
     "metadata": {},
     "output_type": "execute_result"
    }
   ],
   "source": [
    "os.path.join(rootdir,'val','yes')"
   ]
  },
  {
   "cell_type": "code",
   "execution_count": 72,
   "metadata": {},
   "outputs": [
    {
     "name": "stdout",
     "output_type": "stream",
     "text": [
      "30523\n"
     ]
    }
   ],
   "source": [
    "pass_path = '/Users/kaiyihuang/Downloads/OneDrive_2_4-23-2020/20191003_SOT23_PassImage'\n",
    "dst_pass = os.path.join(rootdir,'val','good')\n",
    "os.mkdir(dst_pass)\n",
    "for subdir, dirs, files in os.walk(pass_path):\n",
    "    images = pd.Series(files)\n",
    "    images = images[images.str.contains('.bmp')]\n",
    "    print(len(images))\n",
    "    val_images = images.sample(frac=0.1)\n",
    "    val_images.apply(lambda image:shutil.move(os.path.join(pass_path,image),dst_pass))"
   ]
  },
  {
   "cell_type": "code",
   "execution_count": 74,
   "metadata": {},
   "outputs": [
    {
     "name": "stdout",
     "output_type": "stream",
     "text": [
      "27471\n"
     ]
    }
   ],
   "source": [
    "os.mkdir(os.path.join(rootdir,'good'))\n",
    "for subdir, dirs, files in os.walk(pass_path):\n",
    "    images = pd.Series(files)\n",
    "    images = images[images.str.contains('.bmp')]\n",
    "    print(len(images))\n",
    "    images.apply(lambda image:shutil.move(os.path.join(pass_path,image),os.path.join(rootdir,'good')))"
   ]
  },
  {
   "cell_type": "code",
   "execution_count": 80,
   "metadata": {},
   "outputs": [
    {
     "name": "stdout",
     "output_type": "stream",
     "text": [
      "chipping\n",
      "/Users/kaiyihuang/Downloads/20191129_Labeled_Image/train/chipping\n",
      "foreign_material\n",
      "/Users/kaiyihuang/Downloads/20191129_Labeled_Image/train/foreign_material\n",
      "lead_glue\n",
      "/Users/kaiyihuang/Downloads/20191129_Labeled_Image/train/lead_glue\n",
      "marking_defect\n",
      "/Users/kaiyihuang/Downloads/20191129_Labeled_Image/train/marking_defect\n",
      "pocket_damage\n",
      "/Users/kaiyihuang/Downloads/20191129_Labeled_Image/train/pocket_damage\n",
      "scratch\n",
      "/Users/kaiyihuang/Downloads/20191129_Labeled_Image/train/scratch\n",
      "good\n",
      "/Users/kaiyihuang/Downloads/20191129_Labeled_Image/train/good\n",
      "empty_pocket\n",
      "/Users/kaiyihuang/Downloads/20191129_Labeled_Image/train/empty_pocket\n",
      "device_flip\n",
      "/Users/kaiyihuang/Downloads/20191129_Labeled_Image/train/device_flip\n",
      "lead_defect\n",
      "/Users/kaiyihuang/Downloads/20191129_Labeled_Image/train/lead_defect\n"
     ]
    }
   ],
   "source": [
    "rootdir ='/Users/kaiyihuang/Downloads/20191129_Labeled_Image/train'\n",
    "for subdir, dirs, files in os.walk(rootdir):\n",
    "    for folder in dirs:\n",
    "        print(folder)\n",
    "        path = os.path.join(rootdir,folder)\n",
    "        print(path)\n",
    "        for subsubdir, subdirs, files in os.walk(path):\n",
    "            images = pd.Series(files)\n",
    "            images = images[images.str.contains('.bmp')==False]\n",
    "            images.apply(lambda image:print(os.path.join(path,image)))\n",
    "#             images.apply(lambda image:os.remove(os.path.join(path,image)))\n",
    "    break\n",
    "\n"
   ]
  },
  {
   "cell_type": "code",
   "execution_count": null,
   "metadata": {},
   "outputs": [],
   "source": []
  }
 ],
 "metadata": {
  "kernelspec": {
   "display_name": "Python 3",
   "language": "python",
   "name": "python3"
  },
  "language_info": {
   "codemirror_mode": {
    "name": "ipython",
    "version": 3
   },
   "file_extension": ".py",
   "mimetype": "text/x-python",
   "name": "python",
   "nbconvert_exporter": "python",
   "pygments_lexer": "ipython3",
   "version": "3.7.7"
  }
 },
 "nbformat": 4,
 "nbformat_minor": 2
}
